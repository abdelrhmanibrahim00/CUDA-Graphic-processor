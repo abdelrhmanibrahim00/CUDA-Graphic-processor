{
  "nbformat": 4,
  "nbformat_minor": 0,
  "metadata": {
    "colab": {
      "provenance": [],
      "gpuType": "T4"
    },
    "kernelspec": {
      "name": "python3",
      "display_name": "Python 3"
    },
    "language_info": {
      "name": "python"
    },
    "accelerator": "GPU"
  },
  "cells": [
    {
      "cell_type": "code",
      "execution_count": null,
      "metadata": {
        "id": "oC-6mozPAyzh",
        "colab": {
          "base_uri": "https://localhost:8080/"
        },
        "outputId": "48c0caf2-309b-4a59-8d1a-ce47b44e343e"
      },
      "outputs": [
        {
          "output_type": "stream",
          "name": "stdout",
          "text": [
            "Collecting git+https://github.com/andreinechaev/nvcc4jupyter.git\n",
            "  Cloning https://github.com/andreinechaev/nvcc4jupyter.git to /tmp/pip-req-build-yo6wapgx\n",
            "  Running command git clone --filter=blob:none --quiet https://github.com/andreinechaev/nvcc4jupyter.git /tmp/pip-req-build-yo6wapgx\n",
            "  Resolved https://github.com/andreinechaev/nvcc4jupyter.git to commit 0a71d56e5dce3ff1f0dd2c47c29367629262f527\n",
            "  Preparing metadata (setup.py) ... \u001b[?25l\u001b[?25hdone\n"
          ]
        }
      ],
      "source": [
        "!pip install git+https://github.com/andreinechaev/nvcc4jupyter.git"
      ]
    },
    {
      "cell_type": "code",
      "source": [
        "%load_ext nvcc_plugin"
      ],
      "metadata": {
        "id": "6V_HhV3vBEJp",
        "colab": {
          "base_uri": "https://localhost:8080/"
        },
        "outputId": "92b0b9cf-2b4f-428d-fa9f-e9ce69ad8469"
      },
      "execution_count": null,
      "outputs": [
        {
          "output_type": "stream",
          "name": "stdout",
          "text": [
            "The nvcc_plugin extension is already loaded. To reload it, use:\n",
            "  %reload_ext nvcc_plugin\n"
          ]
        }
      ]
    },
    {
      "cell_type": "code",
      "source": [
        "%%cu\n",
        "#include <cuda_runtime.h>\n",
        "#include <iostream>\n",
        "#include <fstream>\n",
        "#include <cstring>\n",
        "#include <vector>\n",
        "\n",
        "// Define Student structure\n",
        "struct Student {\n",
        "    char name[256];\n",
        "    int credits;\n",
        "    double gpa;\n",
        "};\n",
        "\n",
        "// Define Result structure\n",
        "struct Result {\n",
        "    char data[256];\n",
        "};\n",
        "\n",
        "__device__ int gradeFromScore(double gpa) {\n",
        "\n",
        "    if (gpa >= 8.5) return 4;\n",
        "    else if (gpa >= 7.5) return 3;\n",
        "    else if (gpa >= 6.0) return 2;\n",
        "    else if (gpa >= 5.0) return 1;\n",
        "    else return 0;\n",
        "}\n",
        "\n",
        "__global__ void kernel(Student* students, Result* results, int numStudents, int* resultCounter) {\n",
        "    int idx = blockIdx.x * blockDim.x + threadIdx.x;\n",
        "    if (idx < numStudents) {\n",
        "        Student s = students[idx];\n",
        "        if (s.name[0] > 'K') {\n",
        "            // Convert name to uppercase\n",
        "            for (int i = 0; s.name[i] != '\\0'; i++) {\n",
        "                if (s.name[i] >= 'a' && s.name[i] <= 'z') {\n",
        "                    s.name[i] = s.name[i] - 'a' + 'A';\n",
        "                }\n",
        "            }\n",
        "\n",
        "            // Prepare result string\n",
        "            char resultString[256];\n",
        "            int cursor = 0;\n",
        "            for (int i = 0; s.name[i] != '\\0'; i++) {\n",
        "                resultString[cursor++] = s.name[i];\n",
        "            }\n",
        "            resultString[cursor++] = '-';\n",
        "\n",
        "            // Convert GPA to numeric grade\n",
        "            int grade = gradeFromScore(s.gpa);\n",
        "            // Append grade as a string\n",
        "            resultString[cursor++] = '0' + grade;\n",
        "\n",
        "            // Check credit conditions\n",
        "            if (s.credits >= 200) {\n",
        "                // Satisfied or over-satisfied\n",
        "                if (s.credits > 200) {\n",
        "                    resultString[cursor++] = ' ';\n",
        "\n",
        "\n",
        "                    resultString[cursor++] = 'O';\n",
        "                      resultString[cursor++] = '/';\n",
        "\n",
        "                }\n",
        "\n",
        "\n",
        "                resultString[cursor++] = 'S';\n",
        "            }\n",
        "\n",
        "\n",
        "            resultString[cursor] = '\\0';\n",
        "            __syncthreads();\n",
        "\n",
        "            // Write to result array using atomic operation\n",
        "            int pos = atomicAdd(resultCounter, 1);\n",
        "            for (int i = 0; resultString[i] != '\\0'; i++) {\n",
        "                results[pos].data[i] = resultString[i];\n",
        "            }\n",
        "            results[pos].data[cursor] = '\\0';\n",
        "        }\n",
        "    }\n",
        "}\n",
        "\n",
        "std::vector<Student> readStudentsFromFile(const char* filename) {\n",
        "    std::vector<Student> students;\n",
        "    std::ifstream file(filename);\n",
        "    std::string line;\n",
        "\n",
        "    while (std::getline(file, line)) {\n",
        "        Student s;\n",
        "        sscanf(line.c_str(), \"%[^,],%d,%lf\", s.name, &s.credits, &s.gpa);\n",
        "        students.push_back(s);\n",
        "    }\n",
        "\n",
        "    file.close();\n",
        "    return students;\n",
        "}\n",
        "\n",
        "int main() {\n",
        "    // Read students from file\n",
        "    std::vector<Student> studentVector = readStudentsFromFile(\"data.txt\");\n",
        "    int numStudents = studentVector.size();\n",
        "\n",
        "    // Prepare arrays for CUDA\n",
        "    Student* h_students = new Student[numStudents];\n",
        "    Result* h_results = new Result[numStudents];\n",
        "    int h_resultCounter = 0;\n",
        "\n",
        "    for (int i = 0; i < numStudents; ++i) {\n",
        "        h_students[i] = studentVector[i];\n",
        "    }\n",
        "\n",
        "    // Allocate memory on GPU\n",
        "    Student* d_students;\n",
        "    Result* d_results;\n",
        "    int* d_resultCounter;\n",
        "    cudaMalloc(&d_students, numStudents * sizeof(Student));\n",
        "    cudaMalloc(&d_results, numStudents * sizeof(Result));\n",
        "    cudaMalloc(&d_resultCounter, sizeof(int));\n",
        "\n",
        "    // Copy data from host to device\n",
        "    cudaMemcpy(d_students, h_students, numStudents * sizeof(Student), cudaMemcpyHostToDevice);\n",
        "    cudaMemcpy(d_resultCounter, &h_resultCounter, sizeof(int), cudaMemcpyHostToDevice);\n",
        "\n",
        "    // Launch kernel\n",
        "    int blockSize = 32; // or another appropriate value\n",
        "   int numBlocks = (numStudents + blockSize - 1) / blockSize;\n",
        "\n",
        "    kernel<<<numBlocks, blockSize>>>(d_students, d_results, numStudents, d_resultCounter);\n",
        "\n",
        "    // Copy results back to host\n",
        "    cudaMemcpy(h_results, d_results, numStudents * sizeof(Result), cudaMemcpyDeviceToHost);\n",
        "    cudaMemcpy(&h_resultCounter, d_resultCounter, sizeof(int), cudaMemcpyDeviceToHost);\n",
        "\n",
        "    // Write results to a file\n",
        "    std::ofstream outFile(\"result.txt\");\n",
        "    for (int i = 0; i < h_resultCounter; i++) {\n",
        "        outFile << h_results[i].data << std::endl;\n",
        "    }\n",
        "    outFile.close();\n",
        "\n",
        "\n",
        "    cudaFree(d_students);\n",
        "    cudaFree(d_results);\n",
        "    cudaFree(d_resultCounter);\n",
        "\n",
        "    return 0;\n",
        "}\n"
      ],
      "metadata": {
        "id": "9LShkE4CBHEE",
        "colab": {
          "base_uri": "https://localhost:8080/"
        },
        "outputId": "de3b33d3-cfa1-4b49-dafb-9f9d8bba382d"
      },
      "execution_count": 26,
      "outputs": [
        {
          "output_type": "stream",
          "name": "stdout",
          "text": [
            "\n"
          ]
        }
      ]
    },
    {
      "cell_type": "code",
      "source": [],
      "metadata": {
        "id": "KtTm7ScJB0qe"
      },
      "execution_count": null,
      "outputs": []
    }
  ]
}